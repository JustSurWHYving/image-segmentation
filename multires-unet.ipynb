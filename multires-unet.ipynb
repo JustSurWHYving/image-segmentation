{
 "cells": [
  {
   "cell_type": "code",
   "execution_count": null,
   "metadata": {},
   "outputs": [],
   "source": [
    "from keras.src.layers import Conv2D, BatchNormalization, Activation, MaxPooling2D, Conv2DTranspose\n",
    "from keras.src.layers import Concatenate, Input\n",
    "from keras.src.models import Model"
   ]
  },
  {
   "cell_type": "code",
   "execution_count": null,
   "metadata": {},
   "outputs": [],
   "source": [
    "# normal convolution block\n",
    "def conv_block(x, num_filters, kernel_size, padding=\"same\", act=True):\n",
    "    x = Conv2D(num_filters, kernel_size, padding=padding, use_bias=False)(x)\n",
    "    x = BatchNormalization()(x)\n",
    "    if act == True:\n",
    "        x = Activation(\"relu\")(x)\n",
    "    return x"
   ]
  },
  {
   "cell_type": "code",
   "execution_count": null,
   "metadata": {},
   "outputs": [],
   "source": [
    "# multires block with 3 skips\n",
    "def multires_block(x, num_filters, alpha=1.67):\n",
    "    W = num_filters * alpha\n",
    "\n",
    "    x0 = x\n",
    "\n",
    "    # 3 conv blocks in a multires block\n",
    "    x1 = conv_block(x0, int(W*0.167), 3)\n",
    "    x2 = conv_block(x1, int(W*0.333), 3)\n",
    "    x3 = conv_block(x2, int(W*0.5), 3)\n",
    "    xc = Concatenate()([x1, x2, x3])\n",
    "    xc = BatchNormalization()(xc)\n",
    "\n",
    "    nf = int(W*0.167) + int(W*0.333) + int(W*0.5)\n",
    "    sc = conv_block(x0, nf, 1, act=False)\n",
    "\n",
    "    x = Activation(\"relu\")(xc + sc)\n",
    "    x = BatchNormalization()(x)\n",
    "    return x"
   ]
  },
  {
   "cell_type": "code",
   "execution_count": null,
   "metadata": {},
   "outputs": [],
   "source": [
    "# skip connections\n",
    "def res_path(x, num_filters, length):\n",
    "    for i in range(length):\n",
    "        x0 = x\n",
    "        x1 = conv_block(x0, num_filters, 3, act=False)\n",
    "        sc = conv_block(x0, num_filters, 1, act=False)\n",
    "        x = Activation(\"relu\")(x1 + sc)\n",
    "        x = BatchNormalization()(x)\n",
    "    return x\n"
   ]
  },
  {
   "cell_type": "code",
   "execution_count": null,
   "metadata": {},
   "outputs": [],
   "source": [
    "# downstream\n",
    "def encoder_block(x, num_filters, length):\n",
    "    x = multires_block(x, num_filters)\n",
    "    s = res_path(x, num_filters, length)\n",
    "    p = MaxPooling2D((2, 2))(x)\n",
    "    return s, p"
   ]
  },
  {
   "cell_type": "code",
   "execution_count": null,
   "metadata": {},
   "outputs": [],
   "source": [
    "# upstream\n",
    "def decoder_block(x, skip, num_filters):\n",
    "    x = Conv2DTranspose(num_filters, 2, strides=2, padding=\"same\")(x)\n",
    "    x = Concatenate()([x, skip])\n",
    "    x = multires_block(x, num_filters)\n",
    "    return x"
   ]
  },
  {
   "cell_type": "code",
   "execution_count": null,
   "metadata": {},
   "outputs": [],
   "source": [
    "# model compile\n",
    "def build_multiresunet(shape):\n",
    "    \"\"\" Input \"\"\"\n",
    "    inputs = Input(shape)\n",
    "\n",
    "    \"\"\" Encoder \"\"\"\n",
    "    p0 = inputs\n",
    "    s1, p1 = encoder_block(p0, 32, 4)\n",
    "    s2, p2 = encoder_block(p1, 64, 3)\n",
    "    s3, p3 = encoder_block(p2, 128, 2)\n",
    "    s4, p4 = encoder_block(p3, 256, 1)\n",
    "\n",
    "    \"\"\" Bridge \"\"\"\n",
    "    b1 = multires_block(p4, 512)\n",
    "\n",
    "    \"\"\" Decoder \"\"\"\n",
    "    d1 = decoder_block(b1, s4, 256)\n",
    "    d2 = decoder_block(d1, s3, 128)\n",
    "    d3 = decoder_block(d2, s2, 64)\n",
    "    d4 = decoder_block(d3, s1, 32)\n",
    "\n",
    "    \"\"\" Output \"\"\"\n",
    "    outputs = Conv2D(1, 1, padding=\"same\", activation=\"sigmoid\")(d4)\n",
    "\n",
    "    \"\"\" Model \"\"\"\n",
    "    model = Model(inputs, outputs, name=\"multires-unet\")\n",
    "\n",
    "    return model"
   ]
  },
  {
   "cell_type": "code",
   "execution_count": null,
   "metadata": {},
   "outputs": [],
   "source": [
    "if __name__ == \"__main__\":\n",
    "    shape = (256, 256, 3)\n",
    "    model = build_multiresunet(shape)\n",
    "    model.summary()"
   ]
  }
 ],
 "metadata": {
  "kernelspec": {
   "display_name": "venv",
   "language": "python",
   "name": "python3"
  },
  "language_info": {
   "name": "python",
   "version": "3.11.9"
  }
 },
 "nbformat": 4,
 "nbformat_minor": 2
}
