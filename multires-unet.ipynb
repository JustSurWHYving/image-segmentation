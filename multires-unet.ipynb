{
 "cells": [
  {
   "cell_type": "code",
   "execution_count": null,
   "metadata": {},
   "outputs": [],
   "source": [
    "from keras.src.layers import Conv2D, BatchNormalization, Activation, MaxPooling2D, Conv2DTranspose\n",
    "from keras.src.layers import Concatenate, Input\n",
    "from keras.src.models import Model"
   ]
  },
  {
   "cell_type": "code",
   "execution_count": null,
   "metadata": {},
   "outputs": [],
   "source": [
    "# normal convolution block\n",
    "def conv_block(x, num_filters, kernel_size, padding=\"same\", act=True):\n",
    "    x = Conv2D(num_filters, kernel_size, padding=padding, use_bias=False)(x)\n",
    "    x = BatchNormalization()(x)\n",
    "    if act == True:\n",
    "        x = Activation(\"relu\")(x)\n",
    "    return x"
   ]
  },
  {
   "cell_type": "code",
   "execution_count": null,
   "metadata": {},
   "outputs": [],
   "source": [
    "# multires block with 3 skips\n",
    "def multires_block(x, num_filters, alpha=1.67):\n",
    "    W = num_filters * alpha\n",
    "\n",
    "    x0 = x\n",
    "\n",
    "    # 3 conv blocks in a multires block\n",
    "    x1 = conv_block(x0, int(W*0.167), 3)\n",
    "    x2 = conv_block(x1, int(W*0.333), 3)\n",
    "    x3 = conv_block(x2, int(W*0.5), 3)\n",
    "    xc = Concatenate()([x1, x2, x3])\n",
    "    xc = BatchNormalization()(xc)\n",
    "\n",
    "    nf = int(W*0.167) + int(W*0.333) + int(W*0.5)\n",
    "    sc = conv_block(x0, nf, 1, act=False)\n",
    "\n",
    "    x = Activation(\"relu\")(xc + sc)\n",
    "    x = BatchNormalization()(x)\n",
    "    return x"
   ]
  }
 ],
 "metadata": {
  "kernelspec": {
   "display_name": "venv",
   "language": "python",
   "name": "python3"
  },
  "language_info": {
   "name": "python",
   "version": "3.11.9"
  }
 },
 "nbformat": 4,
 "nbformat_minor": 2
}
