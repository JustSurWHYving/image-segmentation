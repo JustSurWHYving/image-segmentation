{
 "cells": [
  {
   "cell_type": "code",
   "execution_count": null,
   "metadata": {
    "colab": {
     "base_uri": "https://localhost:8080/"
    },
    "id": "L1LJ4sGfq83Z",
    "outputId": "b6258ab0-86bb-47e6-8185-b0bf8f46ba4a"
   },
   "outputs": [],
   "source": [
    "from os.path import join, isdir\n",
    "from os import listdir, rmdir\n",
    "from shutil import move, rmtree, make_archive\n",
    "\n",
    "import os\n",
    "import pickle\n",
    "import numpy as np\n",
    "import tensorflow as tf\n",
    "\n",
    "from PIL import Image\n",
    "import matplotlib.pyplot as plt\n",
    "\n",
    "DRIVE_DIR = 'drive/'\n",
    "CONTENT_DIR = 'content/'\n",
    "GT_DIR = CONTENT_DIR + 'gtFine/'\n",
    "IMG_DIR = CONTENT_DIR + 'leftImg8bit/'"
   ]
  },
  {
   "cell_type": "markdown",
   "metadata": {
    "id": "zKTYIzHoQICe"
   },
   "source": [
    "#### Preprocess & Archive"
   ]
  },
  {
   "cell_type": "code",
   "execution_count": null,
   "metadata": {
    "id": "BIAJ00lWAEp2"
   },
   "outputs": [],
   "source": [
    "# collapse child directories\n",
    "for parent in listdir(GT_DIR):\n",
    "    parent_dir = GT_DIR + parent\n",
    "    for child in listdir(parent_dir):\n",
    "        if isdir(join(parent_dir, child)):\n",
    "            keep = glob.glob(join(parent_dir, child) + '/*_gtFine_color.png')\n",
    "            keep = [f.split('/')[-1] for f in keep]\n",
    "            for filename in list(set(listdir(join(parent_dir, child))) & set(keep)):\n",
    "                move(join(parent_dir, child, filename), join(parent_dir, filename))\n",
    "            rmtree(join(parent_dir, child))\n",
    "\n",
    "for parent in listdir(IMG_DIR):\n",
    "    parent_dir = IMG_DIR + parent\n",
    "    for child in listdir(parent_dir):\n",
    "        if isdir(join(parent_dir, child)):\n",
    "            for filename in listdir(join(parent_dir, child)):\n",
    "                move(join(parent_dir, child, filename), join(parent_dir, filename))\n",
    "            rmtree(join(parent_dir, child))"
   ]
  },
  {
   "cell_type": "markdown",
   "metadata": {
    "id": "Uo06D2GkqDJC"
   },
   "source": [
    "### **2. Transform**"
   ]
  },
  {
   "cell_type": "markdown",
   "metadata": {
    "id": "iL3yJRbPv8yW"
   },
   "source": [
    "#### Create TF Objects"
   ]
  },
  {
   "cell_type": "code",
   "execution_count": null,
   "metadata": {
    "id": "zUY9iLaVZZHB"
   },
   "outputs": [],
   "source": [
    "# normalize image pixels (z-score to impliment)\n",
    "IMG_SIZE = 299\n",
    "BATCH_SIZE = 32\n",
    "AUTOTUNE = tf.data.experimental.AUTOTUNE\n",
    "\n",
    "CONTENT_DIR = 'content/'\n",
    "GT_DIR = CONTENT_DIR + 'gtFine/'\n",
    "IMG_DIR = CONTENT_DIR + 'leftImg8bit/'\n",
    "\n",
    "def load_and_preprocess_image(path):\n",
    "    img = tf.io.read_file(path)\n",
    "    img = tf.image.decode_jpeg(img, channels=3)\n",
    "    img = tf.image.resize(img, [IMG_SIZE, IMG_SIZE])\n",
    "    img /= 255.0\n",
    "    return img\n",
    "\n",
    "def get_image_paths(dir):\n",
    "    return sorted([dir + path for path in listdir(dir)])\n",
    "\n",
    "# create tf.Dataset objects\n",
    "gt_train_ds = tf.data.Dataset.from_tensor_slices(get_image_paths(GT_DIR+'train/'))\n",
    "gt_val_ds = tf.data.Dataset.from_tensor_slices(get_image_paths(GT_DIR+'val/'))\n",
    "gt_test_ds = tf.data.Dataset.from_tensor_slices(get_image_paths(GT_DIR+'test/'))\n",
    "\n",
    "gt_train_ds = gt_train_ds.map(load_and_preprocess_image)\n",
    "gt_val_ds = gt_val_ds.map(load_and_preprocess_image)\n",
    "gt_test_ds = gt_test_ds.map(load_and_preprocess_image)\n",
    "\n",
    "im_train_ds = tf.data.Dataset.from_tensor_slices(get_image_paths(IMG_DIR+'train/'))\n",
    "im_val_ds = tf.data.Dataset.from_tensor_slices(get_image_paths(IMG_DIR+'val/'))\n",
    "im_test_ds = tf.data.Dataset.from_tensor_slices(get_image_paths(IMG_DIR+'test/'))\n",
    "\n",
    "im_train_ds = im_train_ds.map(load_and_preprocess_image)\n",
    "im_val_ds = im_val_ds.map(load_and_preprocess_image)\n",
    "im_test_ds = im_test_ds.map(load_and_preprocess_image)"
   ]
  },
  {
   "cell_type": "markdown",
   "metadata": {
    "id": "fuySWAT60pxn"
   },
   "source": [
    "#### Visualize Data"
   ]
  },
  {
   "cell_type": "code",
   "execution_count": null,
   "metadata": {
    "id": "14ZYskw20sPX"
   },
   "outputs": [],
   "source": [
    "# matplotlib function to visualize images and their masks together\n",
    "def visualize_images(img, gt, pred):\n",
    "    if pred is not None:\n",
    "        fig, axes = plt.subplots(1, 3, figsize=(12, 8))\n",
    "    else:\n",
    "        fig, axes = plt.subplots(1, 2, figsize=(8, 8))\n",
    "\n",
    "    axes[0].imshow(img)\n",
    "    axes[0].set_title('Actual Image')\n",
    "\n",
    "    axes[1].imshow(gt)\n",
    "    axes[1].set_title('Masked Image')\n",
    "    \n",
    "    if pred is not None:\n",
    "        axes[2].imshow(pred)\n",
    "        axes[2].set_title('Predicted Image')"
   ]
  },
  {
   "cell_type": "code",
   "execution_count": null,
   "metadata": {
    "colab": {
     "base_uri": "https://localhost:8080/",
     "height": 517
    },
    "id": "SCE6h9eD2Jg4",
    "outputId": "ecd67cca-8b26-4883-e985-a7c03dc1de60"
   },
   "outputs": [],
   "source": [
    "for img, gt in list(zip(im_train_ds.take(2), gt_train_ds.take(2))):\n",
    "    visualize_images(img, gt, None)"
   ]
  }
 ],
 "metadata": {
  "accelerator": "TPU",
  "colab": {
   "collapsed_sections": [
    "ql5C9nI3pYEX",
    "S8Q-awSAZCIp",
    "iL3yJRbPv8yW",
    "fuySWAT60pxn",
    "MLpCdi188Zwz",
    "kqf6GRJ7qnUh"
   ],
   "machine_shape": "hm",
   "name": "sematic_segmentation.ipynb",
   "provenance": [],
   "toc_visible": true
  },
  "kernelspec": {
   "display_name": "Python 3 (ipykernel)",
   "language": "python",
   "name": "python3"
  },
  "language_info": {
   "codemirror_mode": {
    "name": "ipython",
    "version": 3
   },
   "file_extension": ".py",
   "mimetype": "text/x-python",
   "name": "python",
   "nbconvert_exporter": "python",
   "pygments_lexer": "ipython3",
   "version": "3.11.9"
  }
 },
 "nbformat": 4,
 "nbformat_minor": 4
}
