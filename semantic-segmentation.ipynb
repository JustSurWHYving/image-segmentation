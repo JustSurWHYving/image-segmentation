{
 "cells": [
  {
   "cell_type": "code",
   "execution_count": 1,
   "id": "848827cd-2164-43a1-8b9b-d9c956ba10e6",
   "metadata": {},
   "outputs": [],
   "source": [
    "# imports\n",
    "import os\n",
    "import glob\n",
    "import pickle\n",
    "import numpy as np\n",
    "import tensorflow as tf\n",
    "import matplotlib.pyplot as plt\n",
    "\n",
    "from os.path import join, isdir\n",
    "from os import listdir, rmdir\n",
    "from shutil import move, rmtree, make_archive\n",
    "from PIL import Image\n",
    "from keras.src.models.model import Model\n",
    "from keras.src.layers import *"
   ]
  },
  {
   "cell_type": "code",
   "execution_count": 2,
   "id": "1d21b7f0",
   "metadata": {},
   "outputs": [],
   "source": [
    "# directories\n",
    "DRIVE_DIR = 'drive/'\n",
    "CONTENT_DIR = 'content/'\n",
    "GT_DIR = CONTENT_DIR + 'gtFine/'\n",
    "IMG_DIR = CONTENT_DIR + 'leftImg8bit/'"
   ]
  },
  {
   "cell_type": "code",
   "execution_count": 3,
   "id": "3aad10c6",
   "metadata": {},
   "outputs": [],
   "source": [
    "# collapse child directories\n",
    "for parent in listdir(GT_DIR):\n",
    "    parent_dir = GT_DIR + parent\n",
    "    for child in listdir(parent_dir):\n",
    "        if isdir(join(parent_dir, child)):\n",
    "            keep = glob.glob(join(parent_dir, child) + '/*_gtFine_color.png')\n",
    "            keep = [f.split('/')[-1] for f in keep]\n",
    "            for filename in list(set(listdir(join(parent_dir, child))) & set(keep)):\n",
    "                move(join(parent_dir, child, filename), join(parent_dir, filename))\n",
    "            rmtree(join(parent_dir, child))\n",
    "\n",
    "for parent in listdir(IMG_DIR):\n",
    "    parent_dir = IMG_DIR + parent\n",
    "    for child in listdir(parent_dir):\n",
    "        if isdir(join(parent_dir, child)):\n",
    "            for filename in listdir(join(parent_dir, child)):\n",
    "                move(join(parent_dir, child, filename), join(parent_dir, filename))\n",
    "            rmtree(join(parent_dir, child))"
   ]
  },
  {
   "cell_type": "code",
   "execution_count": 18,
   "id": "3ad32a3b-4be7-4e74-b51a-b4adc5b5219c",
   "metadata": {},
   "outputs": [],
   "source": [
    "# normalize image pixels (z-score to impliment)\n",
    "IMG_SIZE = 299\n",
    "BATCH_SIZE = 32\n",
    "AUTOTUNE = tf.data.experimental.AUTOTUNE  # auto tunes the pipeline's performance\n",
    "\n",
    "def load_and_preprocess_image(path):\n",
    "    img = tf.io.read_file(path)\n",
    "    img = tf.image.decode_jpeg(img, channels=3)\n",
    "    img = tf.image.resize(img, [IMG_SIZE, IMG_SIZE])\n",
    "    img /= 255.0\n",
    "    return img\n",
    "\n",
    "\n",
    "def get_image_paths(dir):\n",
    "#    return sorted([os.path.join(dir, path) for path in os.listdir(dir)])\n",
    "    return sorted([dir + path for path in listdir(dir)])"
   ]
  },
  {
   "cell_type": "code",
   "execution_count": null,
   "id": "c4e5cd74-2584-47fe-8cea-518f5771d6bb",
   "metadata": {},
   "outputs": [],
   "source": [
    "# create tf.Dataset objects\n",
    "gt_train_ds = tf.data.Dataset.from_tensor_slices(get_image_paths(GT_DIR + 'train/'))\n",
    "gt_val_ds = tf.data.Dataset.from_tensor_slices(get_image_paths(GT_DIR + 'val/'))\n",
    "gt_test_ds = tf.data.Dataset.from_tensor_slices(get_image_paths(GT_DIR + 'test/'))\n",
    "\n",
    "gt_train_ds = gt_train_ds.map(load_and_preprocess_image)\n",
    "gt_val_ds = gt_val_ds.map(load_and_preprocess_image)\n",
    "gt_test_ds = gt_test_ds.map(load_and_preprocess_image)\n",
    "\n",
    "im_train_ds = tf.data.Dataset.from_tensor_slices(get_image_paths(IMG_DIR + 'train/'))\n",
    "im_val_ds = tf.data.Dataset.from_tensor_slices(get_image_paths(IMG_DIR + 'val/'))\n",
    "im_test_ds = tf.data.Dataset.from_tensor_slices(get_image_paths(IMG_DIR + 'test/'))\n",
    "\n",
    "im_train_ds = im_train_ds.map(load_and_preprocess_image)\n",
    "im_val_ds = im_val_ds.map(load_and_preprocess_image)\n",
    "im_test_ds = im_test_ds.map(load_and_preprocess_image)"
   ]
  }
 ],
 "metadata": {
  "kernelspec": {
   "display_name": "Python 3 (ipykernel)",
   "language": "python",
   "name": "python3"
  },
  "language_info": {
   "codemirror_mode": {
    "name": "ipython",
    "version": 3
   },
   "file_extension": ".py",
   "mimetype": "text/x-python",
   "name": "python",
   "nbconvert_exporter": "python",
   "pygments_lexer": "ipython3",
   "version": "3.11.9"
  }
 },
 "nbformat": 4,
 "nbformat_minor": 5
}
